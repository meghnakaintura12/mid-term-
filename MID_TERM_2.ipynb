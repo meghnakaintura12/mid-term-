{
  "nbformat": 4,
  "nbformat_minor": 0,
  "metadata": {
    "colab": {
      "provenance": [],
      "include_colab_link": true
    },
    "kernelspec": {
      "name": "python3",
      "display_name": "Python 3"
    },
    "language_info": {
      "name": "python"
    }
  },
  "cells": [
    {
      "cell_type": "markdown",
      "metadata": {
        "id": "view-in-github",
        "colab_type": "text"
      },
      "source": [
        "<a href=\"https://colab.research.google.com/github/meghnakaintura12/mid-term-/blob/main/MID_TERM_2.ipynb\" target=\"_parent\"><img src=\"https://colab.research.google.com/assets/colab-badge.svg\" alt=\"Open In Colab\"/></a>"
      ]
    },
    {
      "cell_type": "code",
      "execution_count": null,
      "metadata": {
        "id": "t4NDs_JPESg_"
      },
      "outputs": [],
      "source": [
        "# 1.0 import\n",
        "import pandas as pd\n",
        "from sklearn.preprocessing import StandardScaler, MinMaxScaler\n",
        "from sklearn.preprocessing import LabelEncoder, OneHotEncoder\n",
        "from sklearn.model_selection import train_test_split\n",
        "from sklearn.metrics import classification_report, confusion_matrix\n",
        "# 1.1\n",
        "import tensorflow as tf\n",
        "\n",
        "# 1.2 Helper libraries\n",
        "import numpy as np\n",
        "import matplotlib.pyplot as plt\n",
        "from IPython.core.interactiveshell import InteractiveShell\n",
        "import seaborn as sns\n"
      ]
    },
    {
      "cell_type": "code",
      "source": [
        "from IPython.core.interactiveshell import InteractiveShell\n",
        "InteractiveShell.ast_node_interactivity = \"all\"\n"
      ],
      "metadata": {
        "id": "s1Efxo5Qp62F"
      },
      "execution_count": null,
      "outputs": []
    },
    {
      "cell_type": "code",
      "source": [
        "# 2.0 Mount google drive\n",
        "from google.colab import drive\n",
        "drive.mount('/gdrive')\n",
        "\n"
      ],
      "metadata": {
        "id": "11UKqlGTu9ka",
        "colab": {
          "base_uri": "https://localhost:8080/"
        },
        "outputId": "d931be35-1124-4441-feb0-8f9f6cc84374"
      },
      "execution_count": null,
      "outputs": [
        {
          "output_type": "stream",
          "name": "stdout",
          "text": [
            "Drive already mounted at /gdrive; to attempt to forcibly remount, call drive.mount(\"/gdrive\", force_remount=True).\n"
          ]
        }
      ]
    },
    {
      "cell_type": "code",
      "source": [
        "# 2.1 Read Driving data such as acc,turns\n",
        "\n",
        "path =\"/gdrive/MyDrive/Colab_data_files/deeplearning/\"\n",
        "\n"
      ],
      "metadata": {
        "id": "e_KwcYMREcUy"
      },
      "execution_count": null,
      "outputs": []
    },
    {
      "cell_type": "code",
      "source": [
        "# 2.2\n",
        "data = pd.read_csv(\"/gdrive/MyDrive/deeplearning/creditcard.csv\")\n",
        "#pd.read_csv(path + \"test_motion_data.csv\")  /Colab_data_files"
      ],
      "metadata": {
        "id": "lnhu8ZR5wznf"
      },
      "execution_count": null,
      "outputs": []
    },
    {
      "cell_type": "code",
      "source": [
        "from google.colab import drive\n",
        "drive.mount('/content/drive')"
      ],
      "metadata": {
        "id": "FQgTgSqbXQNb",
        "colab": {
          "base_uri": "https://localhost:8080/"
        },
        "outputId": "78884a00-65a1-43e5-ec26-fb79b7d023a3"
      },
      "execution_count": null,
      "outputs": [
        {
          "output_type": "stream",
          "name": "stdout",
          "text": [
            "Mounted at /content/drive\n"
          ]
        }
      ]
    },
    {
      "cell_type": "code",
      "source": [
        "# 2.2.1\n",
        "data.head()"
      ],
      "metadata": {
        "id": "kV5KxQnLvimq",
        "outputId": "30c6fcac-88d3-4f17-db4b-fdd24ea0b15d",
        "colab": {
          "base_uri": "https://localhost:8080/",
          "height": 255
        }
      },
      "execution_count": null,
      "outputs": [
        {
          "output_type": "execute_result",
          "data": {
            "text/plain": [
              "   Time        V1        V2        V3        V4        V5        V6        V7  \\\n",
              "0   0.0 -1.359807 -0.072781  2.536347  1.378155 -0.338321  0.462388  0.239599   \n",
              "1   0.0  1.191857  0.266151  0.166480  0.448154  0.060018 -0.082361 -0.078803   \n",
              "2   1.0 -1.358354 -1.340163  1.773209  0.379780 -0.503198  1.800499  0.791461   \n",
              "3   1.0 -0.966272 -0.185226  1.792993 -0.863291 -0.010309  1.247203  0.237609   \n",
              "4   2.0 -1.158233  0.877737  1.548718  0.403034 -0.407193  0.095921  0.592941   \n",
              "\n",
              "         V8        V9  ...       V21       V22       V23       V24       V25  \\\n",
              "0  0.098698  0.363787  ... -0.018307  0.277838 -0.110474  0.066928  0.128539   \n",
              "1  0.085102 -0.255425  ... -0.225775 -0.638672  0.101288 -0.339846  0.167170   \n",
              "2  0.247676 -1.514654  ...  0.247998  0.771679  0.909412 -0.689281 -0.327642   \n",
              "3  0.377436 -1.387024  ... -0.108300  0.005274 -0.190321 -1.175575  0.647376   \n",
              "4 -0.270533  0.817739  ... -0.009431  0.798278 -0.137458  0.141267 -0.206010   \n",
              "\n",
              "        V26       V27       V28  Amount  Class  \n",
              "0 -0.189115  0.133558 -0.021053  149.62      0  \n",
              "1  0.125895 -0.008983  0.014724    2.69      0  \n",
              "2 -0.139097 -0.055353 -0.059752  378.66      0  \n",
              "3 -0.221929  0.062723  0.061458  123.50      0  \n",
              "4  0.502292  0.219422  0.215153   69.99      0  \n",
              "\n",
              "[5 rows x 31 columns]"
            ],
            "text/html": [
              "\n",
              "  <div id=\"df-5353b068-ce1f-435e-b4c1-b5315f49150c\" class=\"colab-df-container\">\n",
              "    <div>\n",
              "<style scoped>\n",
              "    .dataframe tbody tr th:only-of-type {\n",
              "        vertical-align: middle;\n",
              "    }\n",
              "\n",
              "    .dataframe tbody tr th {\n",
              "        vertical-align: top;\n",
              "    }\n",
              "\n",
              "    .dataframe thead th {\n",
              "        text-align: right;\n",
              "    }\n",
              "</style>\n",
              "<table border=\"1\" class=\"dataframe\">\n",
              "  <thead>\n",
              "    <tr style=\"text-align: right;\">\n",
              "      <th></th>\n",
              "      <th>Time</th>\n",
              "      <th>V1</th>\n",
              "      <th>V2</th>\n",
              "      <th>V3</th>\n",
              "      <th>V4</th>\n",
              "      <th>V5</th>\n",
              "      <th>V6</th>\n",
              "      <th>V7</th>\n",
              "      <th>V8</th>\n",
              "      <th>V9</th>\n",
              "      <th>...</th>\n",
              "      <th>V21</th>\n",
              "      <th>V22</th>\n",
              "      <th>V23</th>\n",
              "      <th>V24</th>\n",
              "      <th>V25</th>\n",
              "      <th>V26</th>\n",
              "      <th>V27</th>\n",
              "      <th>V28</th>\n",
              "      <th>Amount</th>\n",
              "      <th>Class</th>\n",
              "    </tr>\n",
              "  </thead>\n",
              "  <tbody>\n",
              "    <tr>\n",
              "      <th>0</th>\n",
              "      <td>0.0</td>\n",
              "      <td>-1.359807</td>\n",
              "      <td>-0.072781</td>\n",
              "      <td>2.536347</td>\n",
              "      <td>1.378155</td>\n",
              "      <td>-0.338321</td>\n",
              "      <td>0.462388</td>\n",
              "      <td>0.239599</td>\n",
              "      <td>0.098698</td>\n",
              "      <td>0.363787</td>\n",
              "      <td>...</td>\n",
              "      <td>-0.018307</td>\n",
              "      <td>0.277838</td>\n",
              "      <td>-0.110474</td>\n",
              "      <td>0.066928</td>\n",
              "      <td>0.128539</td>\n",
              "      <td>-0.189115</td>\n",
              "      <td>0.133558</td>\n",
              "      <td>-0.021053</td>\n",
              "      <td>149.62</td>\n",
              "      <td>0</td>\n",
              "    </tr>\n",
              "    <tr>\n",
              "      <th>1</th>\n",
              "      <td>0.0</td>\n",
              "      <td>1.191857</td>\n",
              "      <td>0.266151</td>\n",
              "      <td>0.166480</td>\n",
              "      <td>0.448154</td>\n",
              "      <td>0.060018</td>\n",
              "      <td>-0.082361</td>\n",
              "      <td>-0.078803</td>\n",
              "      <td>0.085102</td>\n",
              "      <td>-0.255425</td>\n",
              "      <td>...</td>\n",
              "      <td>-0.225775</td>\n",
              "      <td>-0.638672</td>\n",
              "      <td>0.101288</td>\n",
              "      <td>-0.339846</td>\n",
              "      <td>0.167170</td>\n",
              "      <td>0.125895</td>\n",
              "      <td>-0.008983</td>\n",
              "      <td>0.014724</td>\n",
              "      <td>2.69</td>\n",
              "      <td>0</td>\n",
              "    </tr>\n",
              "    <tr>\n",
              "      <th>2</th>\n",
              "      <td>1.0</td>\n",
              "      <td>-1.358354</td>\n",
              "      <td>-1.340163</td>\n",
              "      <td>1.773209</td>\n",
              "      <td>0.379780</td>\n",
              "      <td>-0.503198</td>\n",
              "      <td>1.800499</td>\n",
              "      <td>0.791461</td>\n",
              "      <td>0.247676</td>\n",
              "      <td>-1.514654</td>\n",
              "      <td>...</td>\n",
              "      <td>0.247998</td>\n",
              "      <td>0.771679</td>\n",
              "      <td>0.909412</td>\n",
              "      <td>-0.689281</td>\n",
              "      <td>-0.327642</td>\n",
              "      <td>-0.139097</td>\n",
              "      <td>-0.055353</td>\n",
              "      <td>-0.059752</td>\n",
              "      <td>378.66</td>\n",
              "      <td>0</td>\n",
              "    </tr>\n",
              "    <tr>\n",
              "      <th>3</th>\n",
              "      <td>1.0</td>\n",
              "      <td>-0.966272</td>\n",
              "      <td>-0.185226</td>\n",
              "      <td>1.792993</td>\n",
              "      <td>-0.863291</td>\n",
              "      <td>-0.010309</td>\n",
              "      <td>1.247203</td>\n",
              "      <td>0.237609</td>\n",
              "      <td>0.377436</td>\n",
              "      <td>-1.387024</td>\n",
              "      <td>...</td>\n",
              "      <td>-0.108300</td>\n",
              "      <td>0.005274</td>\n",
              "      <td>-0.190321</td>\n",
              "      <td>-1.175575</td>\n",
              "      <td>0.647376</td>\n",
              "      <td>-0.221929</td>\n",
              "      <td>0.062723</td>\n",
              "      <td>0.061458</td>\n",
              "      <td>123.50</td>\n",
              "      <td>0</td>\n",
              "    </tr>\n",
              "    <tr>\n",
              "      <th>4</th>\n",
              "      <td>2.0</td>\n",
              "      <td>-1.158233</td>\n",
              "      <td>0.877737</td>\n",
              "      <td>1.548718</td>\n",
              "      <td>0.403034</td>\n",
              "      <td>-0.407193</td>\n",
              "      <td>0.095921</td>\n",
              "      <td>0.592941</td>\n",
              "      <td>-0.270533</td>\n",
              "      <td>0.817739</td>\n",
              "      <td>...</td>\n",
              "      <td>-0.009431</td>\n",
              "      <td>0.798278</td>\n",
              "      <td>-0.137458</td>\n",
              "      <td>0.141267</td>\n",
              "      <td>-0.206010</td>\n",
              "      <td>0.502292</td>\n",
              "      <td>0.219422</td>\n",
              "      <td>0.215153</td>\n",
              "      <td>69.99</td>\n",
              "      <td>0</td>\n",
              "    </tr>\n",
              "  </tbody>\n",
              "</table>\n",
              "<p>5 rows × 31 columns</p>\n",
              "</div>\n",
              "    <div class=\"colab-df-buttons\">\n",
              "\n",
              "  <div class=\"colab-df-container\">\n",
              "    <button class=\"colab-df-convert\" onclick=\"convertToInteractive('df-5353b068-ce1f-435e-b4c1-b5315f49150c')\"\n",
              "            title=\"Convert this dataframe to an interactive table.\"\n",
              "            style=\"display:none;\">\n",
              "\n",
              "  <svg xmlns=\"http://www.w3.org/2000/svg\" height=\"24px\" viewBox=\"0 -960 960 960\">\n",
              "    <path d=\"M120-120v-720h720v720H120Zm60-500h600v-160H180v160Zm220 220h160v-160H400v160Zm0 220h160v-160H400v160ZM180-400h160v-160H180v160Zm440 0h160v-160H620v160ZM180-180h160v-160H180v160Zm440 0h160v-160H620v160Z\"/>\n",
              "  </svg>\n",
              "    </button>\n",
              "\n",
              "  <style>\n",
              "    .colab-df-container {\n",
              "      display:flex;\n",
              "      gap: 12px;\n",
              "    }\n",
              "\n",
              "    .colab-df-convert {\n",
              "      background-color: #E8F0FE;\n",
              "      border: none;\n",
              "      border-radius: 50%;\n",
              "      cursor: pointer;\n",
              "      display: none;\n",
              "      fill: #1967D2;\n",
              "      height: 32px;\n",
              "      padding: 0 0 0 0;\n",
              "      width: 32px;\n",
              "    }\n",
              "\n",
              "    .colab-df-convert:hover {\n",
              "      background-color: #E2EBFA;\n",
              "      box-shadow: 0px 1px 2px rgba(60, 64, 67, 0.3), 0px 1px 3px 1px rgba(60, 64, 67, 0.15);\n",
              "      fill: #174EA6;\n",
              "    }\n",
              "\n",
              "    .colab-df-buttons div {\n",
              "      margin-bottom: 4px;\n",
              "    }\n",
              "\n",
              "    [theme=dark] .colab-df-convert {\n",
              "      background-color: #3B4455;\n",
              "      fill: #D2E3FC;\n",
              "    }\n",
              "\n",
              "    [theme=dark] .colab-df-convert:hover {\n",
              "      background-color: #434B5C;\n",
              "      box-shadow: 0px 1px 3px 1px rgba(0, 0, 0, 0.15);\n",
              "      filter: drop-shadow(0px 1px 2px rgba(0, 0, 0, 0.3));\n",
              "      fill: #FFFFFF;\n",
              "    }\n",
              "  </style>\n",
              "\n",
              "    <script>\n",
              "      const buttonEl =\n",
              "        document.querySelector('#df-5353b068-ce1f-435e-b4c1-b5315f49150c button.colab-df-convert');\n",
              "      buttonEl.style.display =\n",
              "        google.colab.kernel.accessAllowed ? 'block' : 'none';\n",
              "\n",
              "      async function convertToInteractive(key) {\n",
              "        const element = document.querySelector('#df-5353b068-ce1f-435e-b4c1-b5315f49150c');\n",
              "        const dataTable =\n",
              "          await google.colab.kernel.invokeFunction('convertToInteractive',\n",
              "                                                    [key], {});\n",
              "        if (!dataTable) return;\n",
              "\n",
              "        const docLinkHtml = 'Like what you see? Visit the ' +\n",
              "          '<a target=\"_blank\" href=https://colab.research.google.com/notebooks/data_table.ipynb>data table notebook</a>'\n",
              "          + ' to learn more about interactive tables.';\n",
              "        element.innerHTML = '';\n",
              "        dataTable['output_type'] = 'display_data';\n",
              "        await google.colab.output.renderOutput(dataTable, element);\n",
              "        const docLink = document.createElement('div');\n",
              "        docLink.innerHTML = docLinkHtml;\n",
              "        element.appendChild(docLink);\n",
              "      }\n",
              "    </script>\n",
              "  </div>\n",
              "\n",
              "\n",
              "<div id=\"df-b3c5f6df-ea1f-4752-968e-c428e556d3c0\">\n",
              "  <button class=\"colab-df-quickchart\" onclick=\"quickchart('df-b3c5f6df-ea1f-4752-968e-c428e556d3c0')\"\n",
              "            title=\"Suggest charts.\"\n",
              "            style=\"display:none;\">\n",
              "\n",
              "<svg xmlns=\"http://www.w3.org/2000/svg\" height=\"24px\"viewBox=\"0 0 24 24\"\n",
              "     width=\"24px\">\n",
              "    <g>\n",
              "        <path d=\"M19 3H5c-1.1 0-2 .9-2 2v14c0 1.1.9 2 2 2h14c1.1 0 2-.9 2-2V5c0-1.1-.9-2-2-2zM9 17H7v-7h2v7zm4 0h-2V7h2v10zm4 0h-2v-4h2v4z\"/>\n",
              "    </g>\n",
              "</svg>\n",
              "  </button>\n",
              "\n",
              "<style>\n",
              "  .colab-df-quickchart {\n",
              "    background-color: #E8F0FE;\n",
              "    border: none;\n",
              "    border-radius: 50%;\n",
              "    cursor: pointer;\n",
              "    display: none;\n",
              "    fill: #1967D2;\n",
              "    height: 32px;\n",
              "    padding: 0 0 0 0;\n",
              "    width: 32px;\n",
              "  }\n",
              "\n",
              "  .colab-df-quickchart:hover {\n",
              "    background-color: #E2EBFA;\n",
              "    box-shadow: 0px 1px 2px rgba(60, 64, 67, 0.3), 0px 1px 3px 1px rgba(60, 64, 67, 0.15);\n",
              "    fill: #174EA6;\n",
              "  }\n",
              "\n",
              "  [theme=dark] .colab-df-quickchart {\n",
              "    background-color: #3B4455;\n",
              "    fill: #D2E3FC;\n",
              "  }\n",
              "\n",
              "  [theme=dark] .colab-df-quickchart:hover {\n",
              "    background-color: #434B5C;\n",
              "    box-shadow: 0px 1px 3px 1px rgba(0, 0, 0, 0.15);\n",
              "    filter: drop-shadow(0px 1px 2px rgba(0, 0, 0, 0.3));\n",
              "    fill: #FFFFFF;\n",
              "  }\n",
              "</style>\n",
              "\n",
              "  <script>\n",
              "    async function quickchart(key) {\n",
              "      const charts = await google.colab.kernel.invokeFunction(\n",
              "          'suggestCharts', [key], {});\n",
              "    }\n",
              "    (() => {\n",
              "      let quickchartButtonEl =\n",
              "        document.querySelector('#df-b3c5f6df-ea1f-4752-968e-c428e556d3c0 button');\n",
              "      quickchartButtonEl.style.display =\n",
              "        google.colab.kernel.accessAllowed ? 'block' : 'none';\n",
              "    })();\n",
              "  </script>\n",
              "</div>\n",
              "    </div>\n",
              "  </div>\n"
            ]
          },
          "metadata": {},
          "execution_count": 8
        }
      ]
    },
    {
      "cell_type": "code",
      "source": [
        "# 2.2.2\n",
        "data.shape   # (10000, 14)"
      ],
      "metadata": {
        "id": "xvzzZC1_vlP9",
        "outputId": "04210bcd-4577-4917-b606-fdb0284f8a74",
        "colab": {
          "base_uri": "https://localhost:8080/"
        }
      },
      "execution_count": null,
      "outputs": [
        {
          "output_type": "execute_result",
          "data": {
            "text/plain": [
              "(284807, 31)"
            ]
          },
          "metadata": {},
          "execution_count": 9
        }
      ]
    },
    {
      "cell_type": "code",
      "source": [
        "data['Class'].unique()"
      ],
      "metadata": {
        "colab": {
          "base_uri": "https://localhost:8080/"
        },
        "id": "GV49Z3ZuoJvx",
        "outputId": "b90ce398-12c4-4485-f89d-e6e38b88897a"
      },
      "execution_count": null,
      "outputs": [
        {
          "output_type": "execute_result",
          "data": {
            "text/plain": [
              "array([0, 1])"
            ]
          },
          "metadata": {},
          "execution_count": 10
        }
      ]
    },
    {
      "cell_type": "code",
      "source": [
        "# 2.3 Pop out target\n",
        "y = data.pop('Class')"
      ],
      "metadata": {
        "id": "N3KCovgwEtmt"
      },
      "execution_count": null,
      "outputs": []
    },
    {
      "cell_type": "code",
      "source": [
        "# 2.3.1\n",
        "data.shape"
      ],
      "metadata": {
        "colab": {
          "base_uri": "https://localhost:8080/"
        },
        "id": "GmDd06fNJjsM",
        "outputId": "392d7496-46cd-4e3c-c5ee-1ff506bc670d"
      },
      "execution_count": null,
      "outputs": [
        {
          "output_type": "execute_result",
          "data": {
            "text/plain": [
              "(284807, 30)"
            ]
          },
          "metadata": {},
          "execution_count": 12
        }
      ]
    },
    {
      "cell_type": "code",
      "source": [
        "# 3.0 Check NULL\n",
        "data.isnull().sum()"
      ],
      "metadata": {
        "id": "fG-9A9AN8MZp",
        "outputId": "3c4cd08a-6929-4a62-dfa6-4a303535dd39",
        "colab": {
          "base_uri": "https://localhost:8080/"
        }
      },
      "execution_count": null,
      "outputs": [
        {
          "output_type": "execute_result",
          "data": {
            "text/plain": [
              "Time      0\n",
              "V1        0\n",
              "V2        0\n",
              "V3        0\n",
              "V4        0\n",
              "V5        0\n",
              "V6        0\n",
              "V7        0\n",
              "V8        0\n",
              "V9        0\n",
              "V10       0\n",
              "V11       0\n",
              "V12       0\n",
              "V13       0\n",
              "V14       0\n",
              "V15       0\n",
              "V16       0\n",
              "V17       0\n",
              "V18       0\n",
              "V19       0\n",
              "V20       0\n",
              "V21       0\n",
              "V22       0\n",
              "V23       0\n",
              "V24       0\n",
              "V25       0\n",
              "V26       0\n",
              "V27       0\n",
              "V28       0\n",
              "Amount    0\n",
              "dtype: int64"
            ]
          },
          "metadata": {},
          "execution_count": 13
        }
      ]
    },
    {
      "cell_type": "code",
      "source": [
        "# 4.0 test and train split\n",
        "X_train,X_test, y_train,y_test = train_test_split(data, y, test_size = 0.25)"
      ],
      "metadata": {
        "id": "x6HG0SEppo72"
      },
      "execution_count": null,
      "outputs": []
    },
    {
      "cell_type": "code",
      "source": [
        "X_train.shape\n",
        "X_test.shape"
      ],
      "metadata": {
        "colab": {
          "base_uri": "https://localhost:8080/"
        },
        "id": "xUm3VKFLpxnG",
        "outputId": "591db787-31a6-491a-cab3-8c84571dac22"
      },
      "execution_count": null,
      "outputs": [
        {
          "output_type": "execute_result",
          "data": {
            "text/plain": [
              "(213605, 30)"
            ]
          },
          "metadata": {},
          "execution_count": 15
        },
        {
          "output_type": "execute_result",
          "data": {
            "text/plain": [
              "(71202, 30)"
            ]
          },
          "metadata": {},
          "execution_count": 15
        }
      ]
    },
    {
      "cell_type": "code",
      "source": [
        "y.shape"
      ],
      "metadata": {
        "colab": {
          "base_uri": "https://localhost:8080/"
        },
        "id": "c2pPNkh7K6-f",
        "outputId": "edfb2b4a-9ff0-48f7-e4d2-e9a819b35e1c"
      },
      "execution_count": null,
      "outputs": [
        {
          "output_type": "execute_result",
          "data": {
            "text/plain": [
              "(284807,)"
            ]
          },
          "metadata": {},
          "execution_count": 16
        }
      ]
    },
    {
      "cell_type": "code",
      "source": [
        "# 5.0 scaling\n",
        "mm = MinMaxScaler()\n",
        "mm.fit(X_train)"
      ],
      "metadata": {
        "colab": {
          "base_uri": "https://localhost:8080/",
          "height": 74
        },
        "id": "eTWGjVk8pYFO",
        "outputId": "a51abf6f-20f0-4be0-bb79-da953c8244db"
      },
      "execution_count": null,
      "outputs": [
        {
          "output_type": "execute_result",
          "data": {
            "text/plain": [
              "MinMaxScaler()"
            ],
            "text/html": [
              "<style>#sk-container-id-1 {color: black;background-color: white;}#sk-container-id-1 pre{padding: 0;}#sk-container-id-1 div.sk-toggleable {background-color: white;}#sk-container-id-1 label.sk-toggleable__label {cursor: pointer;display: block;width: 100%;margin-bottom: 0;padding: 0.3em;box-sizing: border-box;text-align: center;}#sk-container-id-1 label.sk-toggleable__label-arrow:before {content: \"▸\";float: left;margin-right: 0.25em;color: #696969;}#sk-container-id-1 label.sk-toggleable__label-arrow:hover:before {color: black;}#sk-container-id-1 div.sk-estimator:hover label.sk-toggleable__label-arrow:before {color: black;}#sk-container-id-1 div.sk-toggleable__content {max-height: 0;max-width: 0;overflow: hidden;text-align: left;background-color: #f0f8ff;}#sk-container-id-1 div.sk-toggleable__content pre {margin: 0.2em;color: black;border-radius: 0.25em;background-color: #f0f8ff;}#sk-container-id-1 input.sk-toggleable__control:checked~div.sk-toggleable__content {max-height: 200px;max-width: 100%;overflow: auto;}#sk-container-id-1 input.sk-toggleable__control:checked~label.sk-toggleable__label-arrow:before {content: \"▾\";}#sk-container-id-1 div.sk-estimator input.sk-toggleable__control:checked~label.sk-toggleable__label {background-color: #d4ebff;}#sk-container-id-1 div.sk-label input.sk-toggleable__control:checked~label.sk-toggleable__label {background-color: #d4ebff;}#sk-container-id-1 input.sk-hidden--visually {border: 0;clip: rect(1px 1px 1px 1px);clip: rect(1px, 1px, 1px, 1px);height: 1px;margin: -1px;overflow: hidden;padding: 0;position: absolute;width: 1px;}#sk-container-id-1 div.sk-estimator {font-family: monospace;background-color: #f0f8ff;border: 1px dotted black;border-radius: 0.25em;box-sizing: border-box;margin-bottom: 0.5em;}#sk-container-id-1 div.sk-estimator:hover {background-color: #d4ebff;}#sk-container-id-1 div.sk-parallel-item::after {content: \"\";width: 100%;border-bottom: 1px solid gray;flex-grow: 1;}#sk-container-id-1 div.sk-label:hover label.sk-toggleable__label {background-color: #d4ebff;}#sk-container-id-1 div.sk-serial::before {content: \"\";position: absolute;border-left: 1px solid gray;box-sizing: border-box;top: 0;bottom: 0;left: 50%;z-index: 0;}#sk-container-id-1 div.sk-serial {display: flex;flex-direction: column;align-items: center;background-color: white;padding-right: 0.2em;padding-left: 0.2em;position: relative;}#sk-container-id-1 div.sk-item {position: relative;z-index: 1;}#sk-container-id-1 div.sk-parallel {display: flex;align-items: stretch;justify-content: center;background-color: white;position: relative;}#sk-container-id-1 div.sk-item::before, #sk-container-id-1 div.sk-parallel-item::before {content: \"\";position: absolute;border-left: 1px solid gray;box-sizing: border-box;top: 0;bottom: 0;left: 50%;z-index: -1;}#sk-container-id-1 div.sk-parallel-item {display: flex;flex-direction: column;z-index: 1;position: relative;background-color: white;}#sk-container-id-1 div.sk-parallel-item:first-child::after {align-self: flex-end;width: 50%;}#sk-container-id-1 div.sk-parallel-item:last-child::after {align-self: flex-start;width: 50%;}#sk-container-id-1 div.sk-parallel-item:only-child::after {width: 0;}#sk-container-id-1 div.sk-dashed-wrapped {border: 1px dashed gray;margin: 0 0.4em 0.5em 0.4em;box-sizing: border-box;padding-bottom: 0.4em;background-color: white;}#sk-container-id-1 div.sk-label label {font-family: monospace;font-weight: bold;display: inline-block;line-height: 1.2em;}#sk-container-id-1 div.sk-label-container {text-align: center;}#sk-container-id-1 div.sk-container {/* jupyter's `normalize.less` sets `[hidden] { display: none; }` but bootstrap.min.css set `[hidden] { display: none !important; }` so we also need the `!important` here to be able to override the default hidden behavior on the sphinx rendered scikit-learn.org. See: https://github.com/scikit-learn/scikit-learn/issues/21755 */display: inline-block !important;position: relative;}#sk-container-id-1 div.sk-text-repr-fallback {display: none;}</style><div id=\"sk-container-id-1\" class=\"sk-top-container\"><div class=\"sk-text-repr-fallback\"><pre>MinMaxScaler()</pre><b>In a Jupyter environment, please rerun this cell to show the HTML representation or trust the notebook. <br />On GitHub, the HTML representation is unable to render, please try loading this page with nbviewer.org.</b></div><div class=\"sk-container\" hidden><div class=\"sk-item\"><div class=\"sk-estimator sk-toggleable\"><input class=\"sk-toggleable__control sk-hidden--visually\" id=\"sk-estimator-id-1\" type=\"checkbox\" checked><label for=\"sk-estimator-id-1\" class=\"sk-toggleable__label sk-toggleable__label-arrow\">MinMaxScaler</label><div class=\"sk-toggleable__content\"><pre>MinMaxScaler()</pre></div></div></div></div></div>"
            ]
          },
          "metadata": {},
          "execution_count": 17
        }
      ]
    },
    {
      "cell_type": "code",
      "source": [
        "# 5.1 transform\n",
        "X_train = mm.transform(X_train)\n",
        "X_test = mm.transform(X_test)"
      ],
      "metadata": {
        "id": "kb_YJ-w3p_7-"
      },
      "execution_count": null,
      "outputs": []
    },
    {
      "cell_type": "markdown",
      "source": [
        "## Model"
      ],
      "metadata": {
        "id": "BKGxZacvpAUU"
      }
    },
    {
      "cell_type": "code",
      "source": [
        "# 6.0 Blank model\n",
        "model = tf.keras.Sequential()"
      ],
      "metadata": {
        "id": "3u7a51m5Ixfm"
      },
      "execution_count": null,
      "outputs": []
    },
    {
      "cell_type": "code",
      "source": [
        "# 6.1 input layer\n",
        "model.add(tf.keras.layers.Input(shape=(30,)))"
      ],
      "metadata": {
        "id": "3v6Pylo8LbZK"
      },
      "execution_count": null,
      "outputs": []
    },
    {
      "cell_type": "markdown",
      "source": [],
      "metadata": {
        "id": "DbtJ7qgtmx7p"
      }
    },
    {
      "cell_type": "code",
      "source": [
        "# 6.2 hidden layer 1\n",
        "model.add(tf.keras.layers.Dense(150, activation = 'relu'))"
      ],
      "metadata": {
        "id": "IyWunUk-LbBC"
      },
      "execution_count": null,
      "outputs": []
    },
    {
      "cell_type": "code",
      "source": [
        "# 6.3 hidden layer 2\n",
        "model.add(tf.keras.layers.Dense(200, activation = 'relu'))"
      ],
      "metadata": {
        "id": "CJ-OzwnXLa76"
      },
      "execution_count": null,
      "outputs": []
    },
    {
      "cell_type": "code",
      "source": [
        "# 6.4 hidden layer 3\n",
        "model.add(tf.keras.layers.Dense(100, activation = 'relu'))"
      ],
      "metadata": {
        "id": "canPNNVpLaiS"
      },
      "execution_count": null,
      "outputs": []
    },
    {
      "cell_type": "code",
      "source": [
        "# 6.5 output layer\n",
        "model.add(tf.keras.layers.Dense(1,activation = 'sigmoid'))"
      ],
      "metadata": {
        "id": "cYlMUAwXKf53"
      },
      "execution_count": null,
      "outputs": []
    },
    {
      "cell_type": "code",
      "source": [
        "# 7.0 model summary\n",
        "model.summary()"
      ],
      "metadata": {
        "id": "GFE8OWgZMctq",
        "outputId": "a50e72ff-f1cf-450c-977d-df462572c2b6",
        "colab": {
          "base_uri": "https://localhost:8080/"
        }
      },
      "execution_count": null,
      "outputs": [
        {
          "output_type": "stream",
          "name": "stdout",
          "text": [
            "Model: \"sequential\"\n",
            "_________________________________________________________________\n",
            " Layer (type)                Output Shape              Param #   \n",
            "=================================================================\n",
            " dense (Dense)               (None, 150)               4650      \n",
            "                                                                 \n",
            " dense_1 (Dense)             (None, 200)               30200     \n",
            "                                                                 \n",
            " dense_2 (Dense)             (None, 100)               20100     \n",
            "                                                                 \n",
            " dense_3 (Dense)             (None, 1)                 101       \n",
            "                                                                 \n",
            "=================================================================\n",
            "Total params: 55,051\n",
            "Trainable params: 55,051\n",
            "Non-trainable params: 0\n",
            "_________________________________________________________________\n"
          ]
        }
      ]
    },
    {
      "cell_type": "code",
      "source": [
        "# 8.0 plot\n",
        "from tensorflow.keras.utils import plot_model"
      ],
      "metadata": {
        "id": "sropjgTuNOZ6"
      },
      "execution_count": null,
      "outputs": []
    },
    {
      "cell_type": "code",
      "source": [
        "# 8.1 plot model\n",
        "plot_model(model, show_shapes=True)"
      ],
      "metadata": {
        "id": "sXFsyEmfNVxT",
        "outputId": "9d13ce56-b6cb-4e79-ae25-ef25de093ff5",
        "colab": {
          "base_uri": "https://localhost:8080/",
          "height": 533
        }
      },
      "execution_count": null,
      "outputs": [
        {
          "output_type": "execute_result",
          "data": {
            "image/png": "[encoded data removed]",
            "text/plain": [
              "<IPython.core.display.Image object>"
            ]
          },
          "metadata": {},
          "execution_count": 27
        }
      ]
    },
    {
      "cell_type": "code",
      "source": [
        "# 9.0 compile model\n",
        "model.compile(\n",
        "                 loss = 'binary_crossentropy',\n",
        "                 optimizer = 'adam',  # Try first with default optimizer and then with 'adam'\n",
        "                                      #  may not make much difference\n",
        "                 metrics = ['acc']\n",
        "              )"
      ],
      "metadata": {
        "id": "0Up-wyZ2OMng"
      },
      "execution_count": null,
      "outputs": []
    },
    {
      "cell_type": "code",
      "source": [
        "# 9.1\n",
        "history = model.fit(X_train,y_train,\n",
        "                    epochs = 50,\n",
        "                    validation_data = (X_test, y_test)\n",
        "                   )"
      ],
      "metadata": {
        "colab": {
          "base_uri": "https://localhost:8080/"
        },
        "id": "lPXsUIvmNorT",
        "outputId": "cd7622d9-19ec-41df-c270-1c45b2399f61"
      },
      "execution_count": null,
      "outputs": [
        {
          "output_type": "stream",
          "name": "stdout",
          "text": [
            "Epoch 1/50\n",
            "6676/6676 [==============================] - 27s 4ms/step - loss: 0.0058 - acc: 0.9988 - val_loss: 0.0056 - val_acc: 0.9989\n",
            "Epoch 2/50\n",
            "6676/6676 [==============================] - 25s 4ms/step - loss: 0.0040 - acc: 0.9994 - val_loss: 0.0081 - val_acc: 0.9987\n",
            "Epoch 3/50\n",
            "6676/6676 [==============================] - 23s 3ms/step - loss: 0.0037 - acc: 0.9994 - val_loss: 0.0051 - val_acc: 0.9992\n",
            "Epoch 4/50\n",
            "6676/6676 [==============================] - 24s 4ms/step - loss: 0.0038 - acc: 0.9994 - val_loss: 0.0048 - val_acc: 0.9992\n",
            "Epoch 5/50\n",
            "6676/6676 [==============================] - 26s 4ms/step - loss: 0.0036 - acc: 0.9994 - val_loss: 0.0052 - val_acc: 0.9991\n",
            "Epoch 6/50\n",
            "6676/6676 [==============================] - 24s 4ms/step - loss: 0.0036 - acc: 0.9994 - val_loss: 0.0047 - val_acc: 0.9992\n",
            "Epoch 7/50\n",
            "6676/6676 [==============================] - 35s 5ms/step - loss: 0.0037 - acc: 0.9994 - val_loss: 0.0044 - val_acc: 0.9991\n",
            "Epoch 8/50\n",
            "6676/6676 [==============================] - 25s 4ms/step - loss: 0.0033 - acc: 0.9995 - val_loss: 0.0042 - val_acc: 0.9992\n",
            "Epoch 9/50\n",
            "6676/6676 [==============================] - 26s 4ms/step - loss: 0.0034 - acc: 0.9994 - val_loss: 0.0047 - val_acc: 0.9991\n",
            "Epoch 10/50\n",
            "6676/6676 [==============================] - 26s 4ms/step - loss: 0.0033 - acc: 0.9994 - val_loss: 0.0050 - val_acc: 0.9991\n",
            "Epoch 11/50\n",
            "6676/6676 [==============================] - 29s 4ms/step - loss: 0.0034 - acc: 0.9994 - val_loss: 0.0042 - val_acc: 0.9992\n",
            "Epoch 12/50\n",
            "6676/6676 [==============================] - 24s 4ms/step - loss: 0.0032 - acc: 0.9994 - val_loss: 0.0053 - val_acc: 0.9991\n",
            "Epoch 13/50\n",
            "6676/6676 [==============================] - 25s 4ms/step - loss: 0.0034 - acc: 0.9994 - val_loss: 0.0044 - val_acc: 0.9992\n",
            "Epoch 14/50\n",
            "6676/6676 [==============================] - 24s 4ms/step - loss: 0.0034 - acc: 0.9994 - val_loss: 0.0044 - val_acc: 0.9991\n",
            "Epoch 15/50\n",
            "6676/6676 [==============================] - 26s 4ms/step - loss: 0.0033 - acc: 0.9994 - val_loss: 0.0042 - val_acc: 0.9991\n",
            "Epoch 16/50\n",
            "6676/6676 [==============================] - 26s 4ms/step - loss: 0.0032 - acc: 0.9995 - val_loss: 0.0053 - val_acc: 0.9991\n",
            "Epoch 17/50\n",
            "6676/6676 [==============================] - 23s 3ms/step - loss: 0.0032 - acc: 0.9994 - val_loss: 0.0047 - val_acc: 0.9991\n",
            "Epoch 18/50\n",
            "6676/6676 [==============================] - 24s 4ms/step - loss: 0.0033 - acc: 0.9994 - val_loss: 0.0047 - val_acc: 0.9992\n",
            "Epoch 19/50\n",
            "6676/6676 [==============================] - 22s 3ms/step - loss: 0.0032 - acc: 0.9994 - val_loss: 0.0044 - val_acc: 0.9992\n",
            "Epoch 20/50\n",
            "6676/6676 [==============================] - 25s 4ms/step - loss: 0.0033 - acc: 0.9994 - val_loss: 0.0046 - val_acc: 0.9992\n",
            "Epoch 21/50\n",
            "6676/6676 [==============================] - 52s 8ms/step - loss: 0.0032 - acc: 0.9995 - val_loss: 0.0046 - val_acc: 0.9991\n",
            "Epoch 22/50\n",
            "6676/6676 [==============================] - 42s 6ms/step - loss: 0.0032 - acc: 0.9994 - val_loss: 0.0045 - val_acc: 0.9992\n",
            "Epoch 23/50\n",
            "6676/6676 [==============================] - 24s 4ms/step - loss: 0.0033 - acc: 0.9994 - val_loss: 0.0041 - val_acc: 0.9992\n",
            "Epoch 24/50\n",
            "6676/6676 [==============================] - 26s 4ms/step - loss: 0.0030 - acc: 0.9995 - val_loss: 0.0043 - val_acc: 0.9992\n",
            "Epoch 25/50\n",
            "6676/6676 [==============================] - 24s 4ms/step - loss: 0.0031 - acc: 0.9995 - val_loss: 0.0077 - val_acc: 0.9991\n",
            "Epoch 26/50\n",
            "6676/6676 [==============================] - 28s 4ms/step - loss: 0.0031 - acc: 0.9994 - val_loss: 0.0047 - val_acc: 0.9992\n",
            "Epoch 27/50\n",
            "6676/6676 [==============================] - 31s 5ms/step - loss: 0.0030 - acc: 0.9994 - val_loss: 0.0045 - val_acc: 0.9992\n",
            "Epoch 28/50\n",
            "6676/6676 [==============================] - 25s 4ms/step - loss: 0.0030 - acc: 0.9995 - val_loss: 0.0052 - val_acc: 0.9992\n",
            "Epoch 29/50\n",
            "6676/6676 [==============================] - 30s 5ms/step - loss: 0.0031 - acc: 0.9994 - val_loss: 0.0045 - val_acc: 0.9992\n",
            "Epoch 30/50\n",
            "6676/6676 [==============================] - 26s 4ms/step - loss: 0.0031 - acc: 0.9994 - val_loss: 0.0046 - val_acc: 0.9992\n",
            "Epoch 31/50\n",
            "6676/6676 [==============================] - 24s 4ms/step - loss: 0.0031 - acc: 0.9994 - val_loss: 0.0055 - val_acc: 0.9992\n",
            "Epoch 32/50\n",
            "6676/6676 [==============================] - 27s 4ms/step - loss: 0.0031 - acc: 0.9995 - val_loss: 0.0043 - val_acc: 0.9992\n",
            "Epoch 33/50\n",
            "6676/6676 [==============================] - 28s 4ms/step - loss: 0.0030 - acc: 0.9995 - val_loss: 0.0049 - val_acc: 0.9991\n",
            "Epoch 34/50\n",
            "6676/6676 [==============================] - 26s 4ms/step - loss: 0.0030 - acc: 0.9995 - val_loss: 0.0039 - val_acc: 0.9992\n",
            "Epoch 35/50\n",
            "6676/6676 [==============================] - 26s 4ms/step - loss: 0.0030 - acc: 0.9995 - val_loss: 0.0047 - val_acc: 0.9992\n",
            "Epoch 36/50\n",
            "6676/6676 [==============================] - 23s 4ms/step - loss: 0.0030 - acc: 0.9995 - val_loss: 0.0050 - val_acc: 0.9992\n",
            "Epoch 37/50\n",
            "6676/6676 [==============================] - 25s 4ms/step - loss: 0.0031 - acc: 0.9995 - val_loss: 0.0045 - val_acc: 0.9992\n",
            "Epoch 38/50\n",
            "6676/6676 [==============================] - 25s 4ms/step - loss: 0.0030 - acc: 0.9995 - val_loss: 0.0048 - val_acc: 0.9991\n",
            "Epoch 39/50\n",
            "6676/6676 [==============================] - 22s 3ms/step - loss: 0.0029 - acc: 0.9995 - val_loss: 0.0043 - val_acc: 0.9992\n",
            "Epoch 40/50\n",
            "6676/6676 [==============================] - 25s 4ms/step - loss: 0.0029 - acc: 0.9994 - val_loss: 0.0048 - val_acc: 0.9993\n",
            "Epoch 41/50\n",
            "6676/6676 [==============================] - 35s 5ms/step - loss: 0.0031 - acc: 0.9995 - val_loss: 0.0040 - val_acc: 0.9991\n",
            "Epoch 42/50\n",
            "6676/6676 [==============================] - 41s 6ms/step - loss: 0.0029 - acc: 0.9995 - val_loss: 0.0042 - val_acc: 0.9991\n",
            "Epoch 43/50\n",
            "6676/6676 [==============================] - 34s 5ms/step - loss: 0.0030 - acc: 0.9995 - val_loss: 0.0047 - val_acc: 0.9992\n",
            "Epoch 44/50\n",
            "6676/6676 [==============================] - 42s 6ms/step - loss: 0.0029 - acc: 0.9995 - val_loss: 0.0049 - val_acc: 0.9991\n",
            "Epoch 45/50\n",
            "6676/6676 [==============================] - 39s 6ms/step - loss: 0.0029 - acc: 0.9995 - val_loss: 0.0048 - val_acc: 0.9991\n",
            "Epoch 46/50\n",
            "6676/6676 [==============================] - 35s 5ms/step - loss: 0.0029 - acc: 0.9995 - val_loss: 0.0058 - val_acc: 0.9990\n",
            "Epoch 47/50\n",
            "6676/6676 [==============================] - 44s 7ms/step - loss: 0.0029 - acc: 0.9995 - val_loss: 0.0053 - val_acc: 0.9992\n",
            "Epoch 48/50\n",
            "6676/6676 [==============================] - 33s 5ms/step - loss: 0.0030 - acc: 0.9995 - val_loss: 0.0040 - val_acc: 0.9992\n",
            "Epoch 49/50\n",
            "6676/6676 [==============================] - 41s 6ms/step - loss: 0.0029 - acc: 0.9995 - val_loss: 0.0038 - val_acc: 0.9992\n",
            "Epoch 50/50\n",
            "6676/6676 [==============================] - 24s 4ms/step - loss: 0.0029 - acc: 0.9995 - val_loss: 0.0038 - val_acc: 0.9993\n"
          ]
        }
      ]
    },
    {
      "cell_type": "code",
      "source": [
        "# 9.2\n",
        "model.evaluate(X_test,y_test)\n"
      ],
      "metadata": {
        "id": "WPFV9TGONxVb",
        "colab": {
          "base_uri": "https://localhost:8080/"
        },
        "outputId": "f724685b-00bb-48e3-e281-9831469b1caa"
      },
      "execution_count": null,
      "outputs": [
        {
          "output_type": "stream",
          "name": "stdout",
          "text": [
            "2226/2226 [==============================] - 5s 2ms/step - loss: 0.0038 - acc: 0.9993\n"
          ]
        },
        {
          "output_type": "execute_result",
          "data": {
            "text/plain": [
              "[0.0037791419308632612, 0.9992556571960449]"
            ]
          },
          "metadata": {},
          "execution_count": 30
        }
      ]
    },
    {
      "cell_type": "code",
      "source": [
        "\n",
        "# 10.0 Make predictions on the test set\n",
        "pred_test = model.predict(X_test)\n",
        "pred_test = (pred_test > 0.5).astype(int)\n",
        "\n",
        "# 11.0 Generate a confusion matrix\n",
        "conf_matrix = confusion_matrix(y_test, pred_test)\n",
        "print(\"Confusion Matrix:\\n\", conf_matrix)\n",
        "\n",
        "# 11.1 Visualize the confusion matrix\n",
        "plt.figure(figsize=(8, 6))\n",
        "sns.heatmap(conf_matrix, annot=True, fmt=\"d\", cmap=\"Blues\")\n",
        "plt.xlabel(\"Predicted\")\n",
        "plt.ylabel(\"Actual\")\n",
        "plt.show()\n",
        "\n",
        "\n",
        "\n",
        "\n"
      ],
      "metadata": {
        "colab": {
          "base_uri": "https://localhost:8080/",
          "height": 629
        },
        "id": "VZE80daGiU3Q",
        "outputId": "0c0c2b81-5eae-49eb-ed52-0601a1168441"
      },
      "execution_count": null,
      "outputs": [
        {
          "output_type": "stream",
          "name": "stdout",
          "text": [
            "2226/2226 [==============================] - 3s 1ms/step\n",
            "Confusion Matrix:\n",
            " [[71053    16]\n",
            " [   37    96]]\n"
          ]
        },
        {
          "output_type": "execute_result",
          "data": {
            "text/plain": [
              "<Figure size 800x600 with 0 Axes>"
            ]
          },
          "metadata": {},
          "execution_count": 35
        },
        {
          "output_type": "execute_result",
          "data": {
            "text/plain": [
              "<Axes: >"
            ]
          },
          "metadata": {},
          "execution_count": 35
        },
        {
          "output_type": "execute_result",
          "data": {
            "text/plain": [
              "Text(0.5, 36.72222222222221, 'Predicted')"
            ]
          },
          "metadata": {},
          "execution_count": 35
        },
        {
          "output_type": "execute_result",
          "data": {
            "text/plain": [
              "Text(70.72222222222221, 0.5, 'Actual')"
            ]
          },
          "metadata": {},
          "execution_count": 35
        },
        {
          "output_type": "display_data",
          "data": {
            "text/plain": [
              "<Figure size 800x600 with 2 Axes>"
            ],
            "image/png": "[encoded data removed]"
          },
          "metadata": {}
        }
      ]
    },
    {
      "cell_type": "code",
      "source": [],
      "metadata": {
        "id": "HdcaaMLhntjZ"
      },
      "execution_count": null,
      "outputs": []
    }
  ]
}