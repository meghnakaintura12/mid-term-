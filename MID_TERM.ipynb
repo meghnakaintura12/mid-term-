{
  "nbformat": 4,
  "nbformat_minor": 0,
  "metadata": {
    "colab": {
      "provenance": [],
      "include_colab_link": true
    },
    "kernelspec": {
      "name": "python3",
      "display_name": "Python 3"
    },
    "language_info": {
      "name": "python"
    }
  },
  "cells": [
    {
      "cell_type": "markdown",
      "metadata": {
        "id": "view-in-github",
        "colab_type": "text"
      },
      "source": [
        "<a href=\"https://colab.research.google.com/github/meghnakaintura12/mid-term-/blob/main/MID_TERM.ipynb\" target=\"_parent\"><img src=\"https://colab.research.google.com/assets/colab-badge.svg\" alt=\"Open In Colab\"/></a>"
      ]
    },
    {
      "cell_type": "code",
      "execution_count": null,
      "metadata": {
        "id": "t4NDs_JPESg_"
      },
      "outputs": [],
      "source": [
        "# 1.0 import libraries\n",
        "import pandas as pd\n",
        "from sklearn.preprocessing import StandardScaler, MinMaxScaler\n",
        "from sklearn.preprocessing import LabelEncoder, OneHotEncoder\n",
        "from sklearn.model_selection import train_test_split\n",
        "from sklearn.metrics import classification_report, confusion_matrix\n",
        "# 1.1\n",
        "import tensorflow as tf\n",
        "\n",
        "# 1.2 Helper libraries\n",
        "import numpy as np\n",
        "import matplotlib.pyplot as plt\n",
        "from IPython.core.interactiveshell import InteractiveShell\n",
        "import seaborn as sns\n"
      ]
    },
    {
      "cell_type": "code",
      "source": [
        "from IPython.core.interactiveshell import InteractiveShell\n",
        "InteractiveShell.ast_node_interactivity = \"all\"\n"
      ],
      "metadata": {
        "id": "s1Efxo5Qp62F"
      },
      "execution_count": null,
      "outputs": []
    },
    {
      "cell_type": "code",
      "source": [
        "# 2.0 Mount google drive\n",
        "from google.colab import drive\n",
        "drive.mount('/gdrive')\n",
        "\n"
      ],
      "metadata": {
        "id": "11UKqlGTu9ka"
      },
      "execution_count": null,
      "outputs": []
    },
    {
      "cell_type": "code",
      "source": [
        "# 2.1 Read Driving data such as acc,turns\n",
        "\n",
        "path =\"/gdrive/MyDrive/Colab_data_files/deeplearning/\"\n",
        "\n"
      ],
      "metadata": {
        "id": "e_KwcYMREcUy"
      },
      "execution_count": null,
      "outputs": []
    },
    {
      "cell_type": "code",
      "source": [
        "# 2.2\n",
        "data = pd.read_csv(\"/gdrive/MyDrive/deeplearning/test_motion_data.csv\")\n",
        "#pd.read_csv(path + \"test_motion_data.csv\")  /Colab_data_files"
      ],
      "metadata": {
        "id": "lnhu8ZR5wznf"
      },
      "execution_count": null,
      "outputs": []
    },
    {
      "cell_type": "code",
      "source": [
        "from google.colab import drive\n",
        "drive.mount('/content/drive')"
      ],
      "metadata": {
        "id": "FQgTgSqbXQNb"
      },
      "execution_count": null,
      "outputs": []
    },
    {
      "cell_type": "code",
      "source": [
        "# 2.2.1\n",
        "data.head()"
      ],
      "metadata": {
        "id": "kV5KxQnLvimq"
      },
      "execution_count": null,
      "outputs": []
    },
    {
      "cell_type": "code",
      "source": [
        "# 2.2.2\n",
        "data.shape   # (10000, 14)"
      ],
      "metadata": {
        "id": "xvzzZC1_vlP9"
      },
      "execution_count": null,
      "outputs": []
    },
    {
      "cell_type": "code",
      "source": [
        "data['Class'].unique()"
      ],
      "metadata": {
        "id": "GV49Z3ZuoJvx"
      },
      "execution_count": null,
      "outputs": []
    },
    {
      "cell_type": "code",
      "source": [
        "data['Class'] = data['Class'].map({'AGGRESSIVE' : 0, 'NORMAL' : 1, 'SLOW' : 2})"
      ],
      "metadata": {
        "id": "LmH2_2IWoO9N"
      },
      "execution_count": null,
      "outputs": []
    },
    {
      "cell_type": "code",
      "source": [
        "# 2.3 Pop out target\n",
        "y = data.pop('Class')"
      ],
      "metadata": {
        "id": "N3KCovgwEtmt"
      },
      "execution_count": null,
      "outputs": []
    },
    {
      "cell_type": "code",
      "source": [
        "# 2.3.1\n",
        "data.shape"
      ],
      "metadata": {
        "id": "GmDd06fNJjsM"
      },
      "execution_count": null,
      "outputs": []
    },
    {
      "cell_type": "code",
      "source": [
        "# 3.0 Check NULL\n",
        "data.isnull().sum()"
      ],
      "metadata": {
        "id": "fG-9A9AN8MZp"
      },
      "execution_count": null,
      "outputs": []
    },
    {
      "cell_type": "code",
      "source": [
        "# 3.1 Test and train split\n",
        "X_train,X_test, y_train,y_test = train_test_split(data, y, test_size = 0.25)"
      ],
      "metadata": {
        "id": "x6HG0SEppo72"
      },
      "execution_count": null,
      "outputs": []
    },
    {
      "cell_type": "code",
      "source": [
        "X_train.shape\n",
        "X_test.shape"
      ],
      "metadata": {
        "id": "xUm3VKFLpxnG"
      },
      "execution_count": null,
      "outputs": []
    },
    {
      "cell_type": "code",
      "source": [
        "y.shape"
      ],
      "metadata": {
        "id": "c2pPNkh7K6-f"
      },
      "execution_count": null,
      "outputs": []
    },
    {
      "cell_type": "code",
      "source": [
        "# 4.0 Scaling\n",
        "mm = MinMaxScaler()\n",
        "mm.fit(X_train)"
      ],
      "metadata": {
        "id": "eTWGjVk8pYFO"
      },
      "execution_count": null,
      "outputs": []
    },
    {
      "cell_type": "code",
      "source": [
        "X_train = mm.transform(X_train)\n",
        "X_test = mm.transform(X_test)"
      ],
      "metadata": {
        "id": "kb_YJ-w3p_7-"
      },
      "execution_count": null,
      "outputs": []
    },
    {
      "cell_type": "markdown",
      "source": [
        "## Model"
      ],
      "metadata": {
        "id": "BKGxZacvpAUU"
      }
    },
    {
      "cell_type": "code",
      "source": [
        "# 6.0 Blank model\n",
        "model = tf.keras.Sequential()"
      ],
      "metadata": {
        "id": "3u7a51m5Ixfm"
      },
      "execution_count": null,
      "outputs": []
    },
    {
      "cell_type": "code",
      "source": [
        "# 6.1 input layer\n",
        "model.add(tf.keras.layers.Input(shape=(7,)))"
      ],
      "metadata": {
        "id": "3v6Pylo8LbZK"
      },
      "execution_count": null,
      "outputs": []
    },
    {
      "cell_type": "code",
      "source": [
        "# 6.2 Hidden layer 1\n",
        "model.add(tf.keras.layers.Dense(150, activation = 'tanh'))"
      ],
      "metadata": {
        "id": "IyWunUk-LbBC"
      },
      "execution_count": null,
      "outputs": []
    },
    {
      "cell_type": "code",
      "source": [
        "# 6.3 Hidden layer 2\n",
        "model.add(tf.keras.layers.Dense(200, activation = 'tanh'))"
      ],
      "metadata": {
        "id": "CJ-OzwnXLa76"
      },
      "execution_count": null,
      "outputs": []
    },
    {
      "cell_type": "code",
      "source": [
        "# 6.4 Hidden layer 3\n",
        "model.add(tf.keras.layers.Dense(100, activation = 'tanh'))"
      ],
      "metadata": {
        "id": "canPNNVpLaiS"
      },
      "execution_count": null,
      "outputs": []
    },
    {
      "cell_type": "code",
      "source": [
        "# 6.5 output layer\n",
        " model.add(tf.keras.layers.Dense(1,activation = 'sigmoid'))"
      ],
      "metadata": {
        "id": "cYlMUAwXKf53"
      },
      "execution_count": null,
      "outputs": []
    },
    {
      "cell_type": "code",
      "source": [
        "# 7.0 model summary\n",
        "model.summary()\n",
        "\n"
      ],
      "metadata": {
        "id": "GFE8OWgZMctq"
      },
      "execution_count": null,
      "outputs": []
    },
    {
      "cell_type": "code",
      "source": [
        "# 7.0 plot\n",
        "from tensorflow.keras.utils import plot_model"
      ],
      "metadata": {
        "id": "sropjgTuNOZ6"
      },
      "execution_count": null,
      "outputs": []
    },
    {
      "cell_type": "code",
      "source": [
        "# 7.1 plot model\n",
        "plot_model(model, show_shapes=True)"
      ],
      "metadata": {
        "id": "sXFsyEmfNVxT"
      },
      "execution_count": null,
      "outputs": []
    },
    {
      "cell_type": "code",
      "source": [
        "# 8.0 compile\n",
        "model.compile(\n",
        "                 loss = 'binary_crossentropy',\n",
        "                 optimizer = 'adam',  # Try first with default optimizer and then with 'adam'\n",
        "                                      #  may not make much difference\n",
        "                 metrics = ['acc']\n",
        "              )"
      ],
      "metadata": {
        "id": "0Up-wyZ2OMng"
      },
      "execution_count": null,
      "outputs": []
    },
    {
      "cell_type": "code",
      "source": [
        "# 9.0\n",
        "history = model.fit(X_train,y_train,\n",
        "                    epochs = 500,\n",
        "                    validation_data = (X_test, y_test)\n",
        "                   )"
      ],
      "metadata": {
        "id": "lPXsUIvmNorT"
      },
      "execution_count": null,
      "outputs": []
    },
    {
      "cell_type": "code",
      "source": [
        "# 9.1\n",
        "model.evaluate(X_test,y_test)"
      ],
      "metadata": {
        "id": "WPFV9TGONxVb"
      },
      "execution_count": null,
      "outputs": []
    },
    {
      "cell_type": "code",
      "source": [
        "# 10.0 Plot\n",
        "loss = history.history['loss']\n",
        "val_loss = history.history['val_loss']\n",
        "plt.plot(loss)\n",
        "plt.plot(val_loss)"
      ],
      "metadata": {
        "id": "YpMiZrmahDOG",
        "colab": {
          "base_uri": "https://localhost:8080/",
          "height": 447
        },
        "outputId": "1c30c052-321d-48b8-ca0d-52ed232c469b"
      },
      "execution_count": null,
      "outputs": [
        {
          "output_type": "execute_result",
          "data": {
            "text/plain": [
              "[<matplotlib.lines.Line2D at 0x7f8b62c99d80>]"
            ]
          },
          "metadata": {},
          "execution_count": 103
        },
        {
          "output_type": "execute_result",
          "data": {
            "text/plain": [
              "[<matplotlib.lines.Line2D at 0x7f8b62c98d90>]"
            ]
          },
          "metadata": {},
          "execution_count": 103
        },
        {
          "output_type": "display_data",
          "data": {
            "text/plain": [
              "<Figure size 640x480 with 1 Axes>"
            ],
            "image/png": "[encoded data removed]"
          },
          "metadata": {}
        }
      ]
    }
  ]
}